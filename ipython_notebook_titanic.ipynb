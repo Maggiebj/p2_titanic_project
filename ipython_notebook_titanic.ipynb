{
 "cells": [
  {
   "cell_type": "markdown",
   "metadata": {},
   "source": [
    "# What Factors Made People More Likely to Survive on the Titanic\n",
    "\n",
    "**Here's data description from Kaggle:** \n",
    "\n",
    "The sinking of the RMS Titanic is one of the most infamous shipwrecks in history.  On April 15, 1912, during her maiden voyage, the Titanic sank after colliding with an iceberg, killing 1502 out of 2224 passengers and crew. This sensational tragedy shocked the international community and led to better safety regulations for ships.\n",
    "\n",
    "One of the reasons that the shipwreck led to such loss of life was that there were not enough lifeboats for the passengers and crew. Although there was some element of luck involved in surviving the sinking, some groups of people were more likely to survive than others, such as women, children, and the upper-class.\n",
    "\n",
    "In this challenge, we ask you to complete the analysis of what sorts of people were likely to survive. \n",
    "\n",
    "**VARIABLE DESCRIPTIONS:**\n",
    "\n",
    "\n",
    "survival        Survival\n",
    "                (0 = No; 1 = Yes)\n",
    "                \n",
    "pclass          Passenger Class\n",
    "                (1 = 1st; 2 = 2nd; 3 = 3rd)\n",
    "                \n",
    "name            Name\n",
    "\n",
    "sex             Sex\n",
    "\n",
    "age             Age\n",
    "\n",
    "sibsp           Number of Siblings/Spouses Aboard\n",
    "\n",
    "parch           Number of Parents/Children Aboard\n",
    "\n",
    "ticket          Ticket Number\n",
    "\n",
    "fare            Passenger Fare\n",
    "\n",
    "cabin           Cabin\n",
    "\n",
    "embarked        Port of Embarkation\n",
    "                (C = Cherbourg; Q = Queenstown; S = Southampton)\n",
    "                \n",
    "\n",
    "**SPECIAL NOTES:**\n",
    "\n",
    "Pclass is a proxy for socio-economic status (SES)\n",
    " 1st ~ Upper; 2nd ~ Middle; 3rd ~ Lower\n",
    "\n",
    "Age is in Years; Fractional if Age less than One (1)\n",
    " If the Age is Estimated, it is in the form xx.5\n",
    "\n",
    "With respect to the family relation variables (i.e. sibsp and parch)\n",
    "some relations were ignored.  The following are the definitions used\n",
    "for sibsp and parch.\n",
    "\n",
    "Sibling:  Brother, Sister, Stepbrother, or Stepsister of Passenger Aboard Titanic\n",
    "Spouse:   Husband or Wife of Passenger Aboard Titanic (Mistresses and Fiances Ignored)\n",
    "Parent:   Mother or Father of Passenger Aboard Titanic\n",
    "Child:    Son, Daughter, Stepson, or Stepdaughter of Passenger Aboard Titanic\n",
    "\n",
    "Other family relatives excluded from this study include cousins,\n",
    "nephews/nieces, aunts/uncles, and in-laws.  Some children travelled\n",
    "only with a nanny, therefore parch=0 for them.  As well, some\n",
    "travelled with very close friends or neighbors in a village, however,\n",
    "the definitions do not support such relations."
   ]
  },
  {
   "cell_type": "markdown",
   "metadata": {},
   "source": [
    "# Question:\n",
    "What factors made people more likely to survive?"
   ]
  },
  {
   "cell_type": "markdown",
   "metadata": {
    "collapsed": true
   },
   "source": [
    "# Data Import\n",
    "Let's import csv file into pandas dataframe and have a look at the dateframe."
   ]
  },
  {
   "cell_type": "code",
   "execution_count": 1,
   "metadata": {
    "collapsed": false
   },
   "outputs": [
    {
     "name": "stdout",
     "output_type": "stream",
     "text": [
      "Populating the interactive namespace from numpy and matplotlib\n"
     ]
    },
    {
     "data": {
      "text/html": [
       "<div>\n",
       "<table border=\"1\" class=\"dataframe\">\n",
       "  <thead>\n",
       "    <tr style=\"text-align: right;\">\n",
       "      <th></th>\n",
       "      <th>PassengerId</th>\n",
       "      <th>Survived</th>\n",
       "      <th>Pclass</th>\n",
       "      <th>Name</th>\n",
       "      <th>Sex</th>\n",
       "      <th>Age</th>\n",
       "      <th>SibSp</th>\n",
       "      <th>Parch</th>\n",
       "      <th>Ticket</th>\n",
       "      <th>Fare</th>\n",
       "      <th>Cabin</th>\n",
       "      <th>Embarked</th>\n",
       "    </tr>\n",
       "  </thead>\n",
       "  <tbody>\n",
       "    <tr>\n",
       "      <th>0</th>\n",
       "      <td>1</td>\n",
       "      <td>0</td>\n",
       "      <td>3</td>\n",
       "      <td>Braund, Mr. Owen Harris</td>\n",
       "      <td>male</td>\n",
       "      <td>22</td>\n",
       "      <td>1</td>\n",
       "      <td>0</td>\n",
       "      <td>A/5 21171</td>\n",
       "      <td>7.2500</td>\n",
       "      <td>NaN</td>\n",
       "      <td>S</td>\n",
       "    </tr>\n",
       "    <tr>\n",
       "      <th>1</th>\n",
       "      <td>2</td>\n",
       "      <td>1</td>\n",
       "      <td>1</td>\n",
       "      <td>Cumings, Mrs. John Bradley (Florence Briggs Th...</td>\n",
       "      <td>female</td>\n",
       "      <td>38</td>\n",
       "      <td>1</td>\n",
       "      <td>0</td>\n",
       "      <td>PC 17599</td>\n",
       "      <td>71.2833</td>\n",
       "      <td>C85</td>\n",
       "      <td>C</td>\n",
       "    </tr>\n",
       "    <tr>\n",
       "      <th>2</th>\n",
       "      <td>3</td>\n",
       "      <td>1</td>\n",
       "      <td>3</td>\n",
       "      <td>Heikkinen, Miss. Laina</td>\n",
       "      <td>female</td>\n",
       "      <td>26</td>\n",
       "      <td>0</td>\n",
       "      <td>0</td>\n",
       "      <td>STON/O2. 3101282</td>\n",
       "      <td>7.9250</td>\n",
       "      <td>NaN</td>\n",
       "      <td>S</td>\n",
       "    </tr>\n",
       "    <tr>\n",
       "      <th>3</th>\n",
       "      <td>4</td>\n",
       "      <td>1</td>\n",
       "      <td>1</td>\n",
       "      <td>Futrelle, Mrs. Jacques Heath (Lily May Peel)</td>\n",
       "      <td>female</td>\n",
       "      <td>35</td>\n",
       "      <td>1</td>\n",
       "      <td>0</td>\n",
       "      <td>113803</td>\n",
       "      <td>53.1000</td>\n",
       "      <td>C123</td>\n",
       "      <td>S</td>\n",
       "    </tr>\n",
       "    <tr>\n",
       "      <th>4</th>\n",
       "      <td>5</td>\n",
       "      <td>0</td>\n",
       "      <td>3</td>\n",
       "      <td>Allen, Mr. William Henry</td>\n",
       "      <td>male</td>\n",
       "      <td>35</td>\n",
       "      <td>0</td>\n",
       "      <td>0</td>\n",
       "      <td>373450</td>\n",
       "      <td>8.0500</td>\n",
       "      <td>NaN</td>\n",
       "      <td>S</td>\n",
       "    </tr>\n",
       "  </tbody>\n",
       "</table>\n",
       "</div>"
      ],
      "text/plain": [
       "   PassengerId  Survived  Pclass  \\\n",
       "0            1         0       3   \n",
       "1            2         1       1   \n",
       "2            3         1       3   \n",
       "3            4         1       1   \n",
       "4            5         0       3   \n",
       "\n",
       "                                                Name     Sex  Age  SibSp  \\\n",
       "0                            Braund, Mr. Owen Harris    male   22      1   \n",
       "1  Cumings, Mrs. John Bradley (Florence Briggs Th...  female   38      1   \n",
       "2                             Heikkinen, Miss. Laina  female   26      0   \n",
       "3       Futrelle, Mrs. Jacques Heath (Lily May Peel)  female   35      1   \n",
       "4                           Allen, Mr. William Henry    male   35      0   \n",
       "\n",
       "   Parch            Ticket     Fare Cabin Embarked  \n",
       "0      0         A/5 21171   7.2500   NaN        S  \n",
       "1      0          PC 17599  71.2833   C85        C  \n",
       "2      0  STON/O2. 3101282   7.9250   NaN        S  \n",
       "3      0            113803  53.1000  C123        S  \n",
       "4      0            373450   8.0500   NaN        S  "
      ]
     },
     "execution_count": 1,
     "metadata": {},
     "output_type": "execute_result"
    }
   ],
   "source": [
    "import matplotlib.pyplot as plt\n",
    "import numpy as np\n",
    "import pandas as pd\n",
    "import seaborn as sns\n",
    "from scipy import stats\n",
    "%pylab inline\n",
    "filename = 'titanic_data.csv'\n",
    "titanic_df = pd.read_csv(filename)#read csv into pandas dataframe\n",
    "titanic_df.head() #have a brief look at the dataset"
   ]
  },
  {
   "cell_type": "markdown",
   "metadata": {},
   "source": [
    "# Data Wrangling \n",
    "Let's check if the dateframe has some NaN in the value. 'Age''Cabin'and 'Embarked'have NaN.\n",
    "About 20% 'Age'value are missing,Since we can't have supplementary on these values,they may have impact on the later statistic inference.\n",
    "About 77% 'Cabin'value are missing, which's a major part .So we don't examine 'Cabin'later for the 'Cabin' values are not reliable.\n",
    "About 0.2% 'Embarked'value are missing, which 's a slight part,we examine 'Embarked'values later."
   ]
  },
  {
   "cell_type": "code",
   "execution_count": 2,
   "metadata": {
    "collapsed": false
   },
   "outputs": [
    {
     "name": "stdout",
     "output_type": "stream",
     "text": [
      "PassengerId    False\n",
      "Survived       False\n",
      "Pclass         False\n",
      "Name           False\n",
      "Sex            False\n",
      "Age             True\n",
      "SibSp          False\n",
      "Parch          False\n",
      "Ticket         False\n",
      "Fare           False\n",
      "Cabin           True\n",
      "Embarked        True\n",
      "dtype: bool\n",
      "Age has null value percentage is 0.199\n",
      "Cabin has null value percentage is 0.771\n",
      "Embarked has null value percentage is 0.002\n"
     ]
    }
   ],
   "source": [
    "print titanic_df.isnull().any(axis=0)\n",
    "def nullpercentage(key):\n",
    "    nullvalue=titanic_df[key]\n",
    "    nullvalue=nullvalue[titanic_df.isnull()[key]]\n",
    "    percentage=round(float(len(nullvalue))/len(titanic_df[key]),3)\n",
    "    print '{} has null value percentage is {}'.format(key,percentage) \n",
    "    return None\n",
    "\n",
    "nullpercentage('Age')\n",
    "nullpercentage('Cabin')\n",
    "nullpercentage('Embarked')"
   ]
  },
  {
   "cell_type": "markdown",
   "metadata": {},
   "source": [
    "# Exploration:\n",
    "When explore on the variables, I'd like to examine on the variables of 'Pclass','Sex','Age','Fare','Embarked','SibSp','Parch' and see if they have some relationship with 'Survived' ."
   ]
  },
  {
   "cell_type": "markdown",
   "metadata": {},
   "source": [
    "**Statistic Inference of numerial variables 'Age','Fare','Parch','SibSp'** \n",
    "\n",
    "Firstly, we have a look at the statistic description of numerical variables"
   ]
  },
  {
   "cell_type": "code",
   "execution_count": 3,
   "metadata": {
    "collapsed": false
   },
   "outputs": [
    {
     "data": {
      "text/html": [
       "<div>\n",
       "<table border=\"1\" class=\"dataframe\">\n",
       "  <thead>\n",
       "    <tr style=\"text-align: right;\">\n",
       "      <th></th>\n",
       "      <th></th>\n",
       "      <th>Age</th>\n",
       "      <th>Fare</th>\n",
       "      <th>Parch</th>\n",
       "      <th>SibSp</th>\n",
       "    </tr>\n",
       "    <tr>\n",
       "      <th>Survived</th>\n",
       "      <th></th>\n",
       "      <th></th>\n",
       "      <th></th>\n",
       "      <th></th>\n",
       "      <th></th>\n",
       "    </tr>\n",
       "  </thead>\n",
       "  <tbody>\n",
       "    <tr>\n",
       "      <th rowspan=\"8\" valign=\"top\">0</th>\n",
       "      <th>count</th>\n",
       "      <td>424.000000</td>\n",
       "      <td>549.000000</td>\n",
       "      <td>549.000000</td>\n",
       "      <td>549.000000</td>\n",
       "    </tr>\n",
       "    <tr>\n",
       "      <th>mean</th>\n",
       "      <td>30.626179</td>\n",
       "      <td>22.117887</td>\n",
       "      <td>0.329690</td>\n",
       "      <td>0.553734</td>\n",
       "    </tr>\n",
       "    <tr>\n",
       "      <th>std</th>\n",
       "      <td>14.172110</td>\n",
       "      <td>31.388207</td>\n",
       "      <td>0.823166</td>\n",
       "      <td>1.288399</td>\n",
       "    </tr>\n",
       "    <tr>\n",
       "      <th>min</th>\n",
       "      <td>1.000000</td>\n",
       "      <td>0.000000</td>\n",
       "      <td>0.000000</td>\n",
       "      <td>0.000000</td>\n",
       "    </tr>\n",
       "    <tr>\n",
       "      <th>25%</th>\n",
       "      <td>21.000000</td>\n",
       "      <td>7.854200</td>\n",
       "      <td>0.000000</td>\n",
       "      <td>0.000000</td>\n",
       "    </tr>\n",
       "    <tr>\n",
       "      <th>50%</th>\n",
       "      <td>28.000000</td>\n",
       "      <td>10.500000</td>\n",
       "      <td>0.000000</td>\n",
       "      <td>0.000000</td>\n",
       "    </tr>\n",
       "    <tr>\n",
       "      <th>75%</th>\n",
       "      <td>39.000000</td>\n",
       "      <td>26.000000</td>\n",
       "      <td>0.000000</td>\n",
       "      <td>1.000000</td>\n",
       "    </tr>\n",
       "    <tr>\n",
       "      <th>max</th>\n",
       "      <td>74.000000</td>\n",
       "      <td>263.000000</td>\n",
       "      <td>6.000000</td>\n",
       "      <td>8.000000</td>\n",
       "    </tr>\n",
       "    <tr>\n",
       "      <th rowspan=\"8\" valign=\"top\">1</th>\n",
       "      <th>count</th>\n",
       "      <td>290.000000</td>\n",
       "      <td>342.000000</td>\n",
       "      <td>342.000000</td>\n",
       "      <td>342.000000</td>\n",
       "    </tr>\n",
       "    <tr>\n",
       "      <th>mean</th>\n",
       "      <td>28.343690</td>\n",
       "      <td>48.395408</td>\n",
       "      <td>0.464912</td>\n",
       "      <td>0.473684</td>\n",
       "    </tr>\n",
       "    <tr>\n",
       "      <th>std</th>\n",
       "      <td>14.950952</td>\n",
       "      <td>66.596998</td>\n",
       "      <td>0.771712</td>\n",
       "      <td>0.708688</td>\n",
       "    </tr>\n",
       "    <tr>\n",
       "      <th>min</th>\n",
       "      <td>0.420000</td>\n",
       "      <td>0.000000</td>\n",
       "      <td>0.000000</td>\n",
       "      <td>0.000000</td>\n",
       "    </tr>\n",
       "    <tr>\n",
       "      <th>25%</th>\n",
       "      <td>19.000000</td>\n",
       "      <td>12.475000</td>\n",
       "      <td>0.000000</td>\n",
       "      <td>0.000000</td>\n",
       "    </tr>\n",
       "    <tr>\n",
       "      <th>50%</th>\n",
       "      <td>28.000000</td>\n",
       "      <td>26.000000</td>\n",
       "      <td>0.000000</td>\n",
       "      <td>0.000000</td>\n",
       "    </tr>\n",
       "    <tr>\n",
       "      <th>75%</th>\n",
       "      <td>36.000000</td>\n",
       "      <td>57.000000</td>\n",
       "      <td>1.000000</td>\n",
       "      <td>1.000000</td>\n",
       "    </tr>\n",
       "    <tr>\n",
       "      <th>max</th>\n",
       "      <td>80.000000</td>\n",
       "      <td>512.329200</td>\n",
       "      <td>5.000000</td>\n",
       "      <td>4.000000</td>\n",
       "    </tr>\n",
       "  </tbody>\n",
       "</table>\n",
       "</div>"
      ],
      "text/plain": [
       "                       Age        Fare       Parch       SibSp\n",
       "Survived                                                      \n",
       "0        count  424.000000  549.000000  549.000000  549.000000\n",
       "         mean    30.626179   22.117887    0.329690    0.553734\n",
       "         std     14.172110   31.388207    0.823166    1.288399\n",
       "         min      1.000000    0.000000    0.000000    0.000000\n",
       "         25%     21.000000    7.854200    0.000000    0.000000\n",
       "         50%     28.000000   10.500000    0.000000    0.000000\n",
       "         75%     39.000000   26.000000    0.000000    1.000000\n",
       "         max     74.000000  263.000000    6.000000    8.000000\n",
       "1        count  290.000000  342.000000  342.000000  342.000000\n",
       "         mean    28.343690   48.395408    0.464912    0.473684\n",
       "         std     14.950952   66.596998    0.771712    0.708688\n",
       "         min      0.420000    0.000000    0.000000    0.000000\n",
       "         25%     19.000000   12.475000    0.000000    0.000000\n",
       "         50%     28.000000   26.000000    0.000000    0.000000\n",
       "         75%     36.000000   57.000000    1.000000    1.000000\n",
       "         max     80.000000  512.329200    5.000000    4.000000"
      ]
     },
     "execution_count": 3,
     "metadata": {},
     "output_type": "execute_result"
    }
   ],
   "source": [
    "#statistic description of the numerial variables 'Age','Fare','Parch','SibSp' by group 'Survived'=0 or 1\n",
    "titanic_df.groupby('Survived',as_index='False')[['Age','Fare','Parch','SibSp']].describe()"
   ]
  },
  {
   "cell_type": "markdown",
   "metadata": {},
   "source": [
    "1.**'Age'**:Passengers survived has mean of 28.343690  is slightly younger than passengers not survived with mean of 30.626179,both median are 28.We have 'Age'distribution plot as below. 'Age' is not extremely skewed and we examine if it is a normal distribution."
   ]
  },
  {
   "cell_type": "code",
   "execution_count": 4,
   "metadata": {
    "collapsed": false
   },
   "outputs": [
    {
     "data": {
      "text/plain": [
       "[<matplotlib.text.Text at 0x9df4370>, <matplotlib.text.Text at 0x9e10b70>]"
      ]
     },
     "execution_count": 4,
     "metadata": {},
     "output_type": "execute_result"
    },
    {
     "data": {
      "image/png": "[encoded data removed]",
      "text/plain": [
       "<matplotlib.figure.Figure at 0x9c03fb0>"
      ]
     },
     "metadata": {},
     "output_type": "display_data"
    }
   ],
   "source": [
    "\n",
    "sns.distplot(titanic_df.Age[titanic_df.Age.notnull()], kde = True).set(ylabel = 'Frequency', title = 'Distribution of Age')#Age distribution plot"
   ]
  },
  {
   "cell_type": "markdown",
   "metadata": {},
   "source": [
    "Let's perform the Shapiro-Wilk test for normality check.The Shapiro-Wilk test tests the null hypothesis that the data was drawn from a normal distribution.We see p value less than any reasonable significance level , so we reject null hypothesis ,'Age'is not normal distribution."
   ]
  },
  {
   "cell_type": "code",
   "execution_count": 5,
   "metadata": {
    "collapsed": false
   },
   "outputs": [
    {
     "data": {
      "text/plain": [
       "(0.9814577102661133, 7.33733145352744e-08)"
      ]
     },
     "execution_count": 5,
     "metadata": {},
     "output_type": "execute_result"
    }
   ],
   "source": [
    "from scipy.stats import shapiro\n",
    "shapiro(titanic_df.Age.dropna())"
   ]
  },
  {
   "cell_type": "markdown",
   "metadata": {},
   "source": [
    "Since Age is not normal distribution,we can't use t test.Insteadly,we use Mann-Whitney U-test,which is a nonparametric statistical test of 2 independent samples that does not assume a normal distribution.\n",
    "Use only when the number of observation in each sample is > 20 and we have 2 independent samples of ranks.\n",
    "The null hypothesis is average Age of survived and unsurvived passengers are the same."
   ]
  },
  {
   "cell_type": "code",
   "execution_count": 6,
   "metadata": {
    "collapsed": false
   },
   "outputs": [
    {
     "name": "stdout",
     "output_type": "stream",
     "text": [
      "Survived Age samples count=290\n",
      "UnSurvived Age samples count=424\n"
     ]
    },
    {
     "data": {
      "text/plain": [
       "MannwhitneyuResult(statistic=57682.0, pvalue=0.080246262388688816)"
      ]
     },
     "execution_count": 6,
     "metadata": {},
     "output_type": "execute_result"
    }
   ],
   "source": [
    "print 'Survived Age samples count={}'.format(len(titanic_df[titanic_df.Survived == 1]['Age'].dropna()))\n",
    "print 'UnSurvived Age samples count={}'.format(len(titanic_df[titanic_df.Survived == 0]['Age'].dropna()))\n",
    "from scipy.stats import mannwhitneyu\n",
    "mannwhitneyu(titanic_df[titanic_df.Survived == 1]['Age'].dropna(), titanic_df[titanic_df.Survived == 0]['Age'].dropna())"
   ]
  },
  {
   "cell_type": "markdown",
   "metadata": {},
   "source": [
    "The reported p-value is for a one-sided hypothesis, to get the two-sided p-value multiply the returned p-value by 2. The p value=0.16 is greater than any reasonable significance level.\n",
    "We can't reject the null.**So we don't have sufficient evidence to say that the 'Age'average of survived passengers and unsurvived passengers are not the same. **"
   ]
  },
  {
   "cell_type": "markdown",
   "metadata": {},
   "source": [
    "2.**'Fare'**:We have 'Fare' distribution plot,which is extremely skewed.So we cant use T-test for 'Fare'."
   ]
  },
  {
   "cell_type": "code",
   "execution_count": 25,
   "metadata": {
    "collapsed": false
   },
   "outputs": [
    {
     "data": {
      "text/plain": [
       "[<matplotlib.text.Text at 0xbbd7ed0>, <matplotlib.text.Text at 0xbbd7950>]"
      ]
     },
     "execution_count": 25,
     "metadata": {},
     "output_type": "execute_result"
    },
    {
     "data": {
      "image/png": "[encoded data removed]",
      "text/plain": [
       "<matplotlib.figure.Figure at 0xbab2ad0>"
      ]
     },
     "metadata": {},
     "output_type": "display_data"
    }
   ],
   "source": [
    "sns.distplot(titanic_df.Fare[titanic_df.Fare.notnull()], kde = True).set(ylabel = 'Frequency', title = 'Fare Distribution')\n",
    "#Fare distribution plot"
   ]
  },
  {
   "cell_type": "markdown",
   "metadata": {},
   "source": [
    "We see a barplot of Fare of survived=1 and survived=0. Passengers survived has mean of 48.395408 and median of 26 is much higher then passengers not survived with mean of 22.117887 and median of 10.5.We have IQR of survived is 57.000000-12.475000=44.525 and IQR of unsurvived is 26.000000-7.854200=18.146.It seems that passenger with higher fare were more likely to survived."
   ]
  },
  {
   "cell_type": "code",
   "execution_count": 26,
   "metadata": {
    "collapsed": false
   },
   "outputs": [
    {
     "data": {
      "text/plain": [
       "<matplotlib.axes._subplots.AxesSubplot at 0xbd36f50>"
      ]
     },
     "execution_count": 26,
     "metadata": {},
     "output_type": "execute_result"
    },
    {
     "data": {
      "image/png": "[encoded data removed]",
      "text/plain": [
       "<matplotlib.figure.Figure at 0xbe3cdf0>"
      ]
     },
     "metadata": {},
     "output_type": "display_data"
    }
   ],
   "source": [
    "def testsample(variable): #function for create test samples\n",
    "    survived=[]\n",
    "    nonsurvived=[]\n",
    "    for i in range(len(titanic_df[variable])):\n",
    "        if titanic_df.iloc[i]['Survived']==0:\n",
    "            survived.append(titanic_df.iloc[i][variable])\n",
    "        elif titanic_df.iloc[i]['Survived']==1:\n",
    "            nonsurvived.append(titanic_df.iloc[i][variable])\n",
    "\n",
    "    survived_array=np.array(survived)\n",
    "    survived_array=survived_array[~np.isnan(survived_array)] #omit nan, using x = x[~np.isnan(x)]\n",
    "\n",
    "    nonsurvived_array=np.array(nonsurvived)\n",
    "    nonsurvived_array=nonsurvived_array[~np.isnan(nonsurvived_array)]#omit nan, using x = x[~np.isnan(x)]\n",
    "    return survived_array,nonsurvived_array\n",
    "\n",
    "sample=testsample('Fare')\n",
    "sns.boxplot(data=sample)"
   ]
  },
  {
   "cell_type": "markdown",
   "metadata": {},
   "source": [
    "We use Mann-Whitney U-test,which is a nonparametric statistical test of 2 independent samples that does not assume a normal distribution. \n",
    "Use only when the number of observation in each sample is > 20 and we have 2 independent samples of ranks.\n",
    "The hypothesis is the average Fare of survived and unsurvived passengers are the same.\n",
    "The reported p-value is for a one-sided hypothesis. The p value is less than any reasonable significance level.So we reject null hypothesis.\n",
    "**Passenger with higher fare were more likely to survived.**"
   ]
  },
  {
   "cell_type": "code",
   "execution_count": 27,
   "metadata": {
    "collapsed": false
   },
   "outputs": [
    {
     "name": "stdout",
     "output_type": "stream",
     "text": [
      "Survived Fare samples count=342\n",
      "UnSurvived Fare samples count=549\n"
     ]
    },
    {
     "data": {
      "text/plain": [
       "MannwhitneyuResult(statistic=57806.5, pvalue=2.2767385896251186e-22)"
      ]
     },
     "execution_count": 27,
     "metadata": {},
     "output_type": "execute_result"
    }
   ],
   "source": [
    "print 'Survived Fare samples count={}'.format(len(titanic_df[titanic_df.Survived == 1]['Fare'].dropna()))\n",
    "print 'UnSurvived Fare samples count={}'.format(len(titanic_df[titanic_df.Survived == 0]['Fare'].dropna()))\n",
    "from scipy.stats import mannwhitneyu\n",
    "mannwhitneyu(titanic_df[titanic_df.Survived == 1]['Fare'].dropna(), titanic_df[titanic_df.Survived == 0]['Fare'].dropna())"
   ]
  },
  {
   "cell_type": "markdown",
   "metadata": {},
   "source": [
    "3.**'Parch'**:We have 'Parch' distribution plot,which is extremely skewed.So we cant use T-test for 'Parch'."
   ]
  },
  {
   "cell_type": "code",
   "execution_count": 6,
   "metadata": {
    "collapsed": false
   },
   "outputs": [
    {
     "data": {
      "text/plain": [
       "[<matplotlib.text.Text at 0x9eda7f0>, <matplotlib.text.Text at 0x9ef4c10>]"
      ]
     },
     "execution_count": 6,
     "metadata": {},
     "output_type": "execute_result"
    },
    {
     "data": {
      "image/png": "[encoded data removed]",
      "text/plain": [
       "<matplotlib.figure.Figure at 0x9c03790>"
      ]
     },
     "metadata": {},
     "output_type": "display_data"
    }
   ],
   "source": [
    "sns.distplot(titanic_df.Parch[titanic_df.Parch.notnull()], kde = True).set(ylabel = 'Frequency', title = 'Parents and Children Distribution')"
   ]
  },
  {
   "cell_type": "markdown",
   "metadata": {},
   "source": [
    "We found that Parch has value of 0,1,2,3,4,5,6. Most cases are 0.Let's find out how many cases in the dataset when parch=1 or >=2. And we group the data into one group when parch>=2,and add a new variable 'Parchnew' of the grouping."
   ]
  },
  {
   "cell_type": "code",
   "execution_count": 11,
   "metadata": {
    "collapsed": false
   },
   "outputs": [
    {
     "name": "stdout",
     "output_type": "stream",
     "text": [
      "[0 1 2 5 3 4 6]\n",
      "the cases with Parch=0 is 678\n",
      "the cases with Parch=1 is 118\n",
      "the cases with Parch>=2 is 95\n",
      "the cases of parch=0 is678,the cases of parch=1 is118,the cases of parch>=2 is95\n"
     ]
    }
   ],
   "source": [
    "print titanic_df['Parch'].unique()\n",
    "print 'the cases with Parch=0 is',len(titanic_df[titanic_df['Parch']==0])\n",
    "print 'the cases with Parch=1 is',len(titanic_df[titanic_df['Parch']==1])\n",
    "print 'the cases with Parch>=2 is',len(titanic_df[titanic_df['Parch']>=2])\n",
    "titanic_df['Parchnew'] = 0\n",
    "condition1 = titanic_df['Parch'] >= 2\n",
    "condition2=titanic_df['Parch'] ==1\n",
    "titanic_df.loc[condition1, 'Parchnew'] =2\n",
    "titanic_df.loc[condition2, 'Parchnew'] =1\n",
    "print 'the cases of parch=0 is{},the cases of parch=1 is{},the cases of parch>=2 is{}'.format(len(titanic_df[titanic_df['Parchnew']==0]),len(titanic_df[titanic_df['Parchnew']==1]),len(titanic_df[titanic_df['Parchnew']==2]))"
   ]
  },
  {
   "cell_type": "markdown",
   "metadata": {
    "collapsed": true
   },
   "source": [
    "We draw a clustered bar plot to see the relationship between Parent/children counts and survived result.**We see passengers had \n",
    "parents/children aboard were more likely to survived than passengers without parents/children aboard.**"
   ]
  },
  {
   "cell_type": "code",
   "execution_count": 9,
   "metadata": {
    "collapsed": false
   },
   "outputs": [
    {
     "data": {
      "text/plain": [
       "<matplotlib.legend.Legend at 0xa0fabb0>"
      ]
     },
     "execution_count": 9,
     "metadata": {},
     "output_type": "execute_result"
    },
    {
     "data": {
      "image/png": "[encoded data removed]",
      "text/plain": [
       "<matplotlib.figure.Figure at 0xa093fb0>"
      ]
     },
     "metadata": {},
     "output_type": "display_data"
    }
   ],
   "source": [
    "Survived_group_Parchnew=titanic_df.groupby(['Survived','Parchnew'])\n",
    "#print Survived_group_parch.groups[:]\n",
    "fig = plt.figure()\n",
    "ax = fig.add_subplot(111)\n",
    "\n",
    "## the data\n",
    "N = 3\n",
    "numpassengersurvived = [len(Survived_group_Parchnew.groups[1L, 0L]),len(Survived_group_Parchnew.groups[1L,1L]),len(Survived_group_Parchnew.groups[1L,2L])]\n",
    "\n",
    "numpassengernotsurvived = [len(Survived_group_Parchnew.groups[0L, 0L]),len(Survived_group_Parchnew.groups[0L,1L]),len(Survived_group_Parchnew.groups[0L,2L])]\n",
    "\n",
    "## necessary variables\n",
    "ind = np.arange(0,N)                # the x locations for the groups\n",
    "width = 0.3                   # the width of the bars\n",
    "\n",
    "## the bars\n",
    "rects1 = ax.bar(ind, numpassengersurvived, width,\n",
    "                color='blue',\n",
    "               )\n",
    "rects2 = ax.bar(ind+width, numpassengernotsurvived, width,\n",
    "                    color='red',\n",
    "                    )\n",
    "\n",
    "#the lables and tick marks\n",
    "ax.set_ylabel('number of passengers ')\n",
    "ax.set_title('passengers with Parents/children aboard are more likely to survived')\n",
    "xTickMarks = ['parch=0','parch=1','parch=2']\n",
    "ax.set_xticks(ind)\n",
    "xtickNames = ax.set_xticklabels(xTickMarks)\n",
    "\n",
    "## add a legend\n",
    "ax.legend( (rects1[0], rects2[0]), ('Survived', 'NotSurvived') )\n"
   ]
  },
  {
   "cell_type": "markdown",
   "metadata": {},
   "source": [
    "4.**'SibSp'**:We have 'SibSp' distribution plot,which is extremely skewed.So we cant use T-test for 'SibSp'."
   ]
  },
  {
   "cell_type": "code",
   "execution_count": 10,
   "metadata": {
    "collapsed": false
   },
   "outputs": [
    {
     "data": {
      "text/plain": [
       "[<matplotlib.text.Text at 0xa093e10>, <matplotlib.text.Text at 0xa093f10>]"
      ]
     },
     "execution_count": 10,
     "metadata": {},
     "output_type": "execute_result"
    },
    {
     "data": {
      "image/png": "[encoded data removed]",
      "text/plain": [
       "<matplotlib.figure.Figure at 0xa032990>"
      ]
     },
     "metadata": {},
     "output_type": "display_data"
    }
   ],
   "source": [
    "sns.distplot(titanic_df.SibSp[titanic_df.SibSp.notnull()], kde = True).set(ylabel = 'Frequency', title = 'Siblings/Spouses Aboard Distribution')\n"
   ]
  },
  {
   "cell_type": "markdown",
   "metadata": {},
   "source": [
    "We found that SibSp has value of 0,1,2,3,4,5,8. Most cases are 0 and 1.We group the data into one group when parch>=2. And add a new variable 'Sibspnew' for grouping."
   ]
  },
  {
   "cell_type": "code",
   "execution_count": 16,
   "metadata": {
    "collapsed": false
   },
   "outputs": [
    {
     "name": "stdout",
     "output_type": "stream",
     "text": [
      "[1 0 3 4 2 5 8]\n",
      "the cases with SibSp=0 is 608\n",
      "the cases with SibSp=1 is 209\n",
      "the cases with SibSp=2 is 28\n",
      "the cases with SibSp=3 is 16\n",
      "the cases with SibSp=4 is 18\n",
      "the cases with SibSp=5 is 5\n",
      "the cases with SibSp=8 is 7\n",
      "the cases of sibsp=0 is608,the cases of sibsp=1 is209,the cases of sibsp>=2 is74\n"
     ]
    }
   ],
   "source": [
    "print titanic_df['SibSp'].unique()\n",
    "print 'the cases with SibSp=0 is',len(titanic_df[titanic_df['SibSp']==0])\n",
    "print 'the cases with SibSp=1 is',len(titanic_df[titanic_df['SibSp']==1])\n",
    "print 'the cases with SibSp=2 is',len(titanic_df[titanic_df['SibSp']==2])\n",
    "print 'the cases with SibSp=3 is',len(titanic_df[titanic_df['SibSp']==3])\n",
    "print 'the cases with SibSp=4 is',len(titanic_df[titanic_df['SibSp']==4])\n",
    "print 'the cases with SibSp=5 is',len(titanic_df[titanic_df['SibSp']==5])\n",
    "print 'the cases with SibSp=8 is',len(titanic_df[titanic_df['SibSp']==8])\n",
    "titanic_df['Sibspnew'] = 0\n",
    "condition1 = titanic_df['SibSp'] >= 2\n",
    "condition2=titanic_df['SibSp'] ==1\n",
    "titanic_df.loc[condition1, 'Sibspnew'] =2\n",
    "titanic_df.loc[condition2, 'Sibspnew'] =1\n",
    "print 'the cases of sibsp=0 is{},the cases of sibsp=1 is{},the cases of sibsp>=2 is{}'.format(len(titanic_df[titanic_df['Sibspnew']==0]),len(titanic_df[titanic_df['Sibspnew']==1]),len(titanic_df[titanic_df['Sibspnew']==2]))"
   ]
  },
  {
   "cell_type": "markdown",
   "metadata": {
    "collapsed": true
   },
   "source": [
    "We draw a clustered bar plot to see the relationship between Siblings/Spouses Aboard counts and survived result.When Siblings/Spouses=1 \n",
    "it seems that very likely to survived. When Siblings/Spouses>=2 or =0, more  Siblings and  no Siblings seem to lower the opportunity of survived."
   ]
  },
  {
   "cell_type": "code",
   "execution_count": 17,
   "metadata": {
    "collapsed": false
   },
   "outputs": [
    {
     "data": {
      "text/plain": [
       "<matplotlib.legend.Legend at 0xa5c49d0>"
      ]
     },
     "execution_count": 17,
     "metadata": {},
     "output_type": "execute_result"
    },
    {
     "data": {
      "image/png": "[encoded data removed]",
      "text/plain": [
       "<matplotlib.figure.Figure at 0xa3aee10>"
      ]
     },
     "metadata": {},
     "output_type": "display_data"
    }
   ],
   "source": [
    "Survived_group_Sibspnew=titanic_df.groupby(['Survived','Sibspnew'])\n",
    "\n",
    "fig = plt.figure()\n",
    "ax = fig.add_subplot(111)\n",
    "\n",
    "## the data\n",
    "N = 3\n",
    "numpassengersurvived = [len(Survived_group_Sibspnew.groups[1L, 0L]),len(Survived_group_Sibspnew.groups[1L,1L]),len(Survived_group_Sibspnew.groups[1L,2L])]\n",
    "\n",
    "numpassengernotsurvived = [len(Survived_group_Sibspnew.groups[0L, 0L]),len(Survived_group_Sibspnew.groups[0L,1L]),len(Survived_group_Sibspnew.groups[0L,2L])]\n",
    "\n",
    "## necessary variables\n",
    "ind = np.arange(0,N)                # the x locations for the groups\n",
    "width = 0.3                   # the width of the bars\n",
    "\n",
    "## the bars\n",
    "rects1 = ax.bar(ind, numpassengersurvived, width,\n",
    "                color='blue',\n",
    "               )\n",
    "rects2 = ax.bar(ind+width, numpassengernotsurvived, width,\n",
    "                    color='red',\n",
    "                    )\n",
    "\n",
    "#the lables and tick marks\n",
    "ax.set_ylabel('number of passengers ')\n",
    "ax.set_title('Siblings/Spouses Aboard and survived result')\n",
    "xTickMarks = ['sibsp=0','sibsp=1','sibsp=2']\n",
    "ax.set_xticks(ind)\n",
    "xtickNames = ax.set_xticklabels(xTickMarks)\n",
    "\n",
    "## add a legend\n",
    "ax.legend( (rects1[0], rects2[0]), ('Survived', 'NotSurvived') )\n"
   ]
  },
  {
   "cell_type": "markdown",
   "metadata": {},
   "source": [
    "Does the Siblings/Spouses related to survived result? We'll do chisquare  test on it.We have E>5 of each category.The null hypothesis is that the categorical data has the given frequencies(By default the categories are assumed to be equally likely).We see the p value is less than any reasonable significant level, **so we reject the null hypothesis and we say the Siblings/Spouses have impact on survived result.When Siblings/Spouses=1 the passengers were very likely to survived. When Siblings/Spouses>=2 or =0, passengers have much lower opportunity to survive.**"
   ]
  },
  {
   "cell_type": "code",
   "execution_count": 18,
   "metadata": {
    "collapsed": false
   },
   "outputs": [
    {
     "data": {
      "text/plain": [
       "Power_divergenceResult(statistic=519.17171717171721, pvalue=1.8335553980946512e-113)"
      ]
     },
     "execution_count": 18,
     "metadata": {},
     "output_type": "execute_result"
    }
   ],
   "source": [
    "from scipy.stats import chisquare\n",
    "chisquare([len(titanic_df[titanic_df['Sibspnew']==0]), len(titanic_df[titanic_df['Sibspnew']==1]), len(titanic_df[titanic_df['Sibspnew']==2])])"
   ]
  },
  {
   "cell_type": "markdown",
   "metadata": {},
   "source": [
    "**categotical variable 'Sex','Pclass','Embarked' Exploration**\n",
    "\n",
    "4.**'Sex'**: I grouped by 'Survived'and 'Sex', made a barplot and found:**female were more likely to survived than male..**"
   ]
  },
  {
   "cell_type": "code",
   "execution_count": 19,
   "metadata": {
    "collapsed": false
   },
   "outputs": [
    {
     "data": {
      "image/png": "[encoded data removed]",
      "text/plain": [
       "<matplotlib.figure.Figure at 0xa443170>"
      ]
     },
     "metadata": {},
     "output_type": "display_data"
    }
   ],
   "source": [
    "Survived_group_sex=titanic_df.groupby(['Survived','Sex'])\n",
    "#print Survived_group.groups[1L, 'female']\n",
    "fig = plt.figure()\n",
    "ax = fig.add_subplot(111)\n",
    "\n",
    "## the data\n",
    "N = 2\n",
    "numpassenger = [len(Survived_group_sex.groups[1L, 'female']),len(Survived_group_sex.groups[1L, 'male'])]\n",
    "\n",
    "\n",
    "## necessary variables\n",
    "ind = np.arange(0,N)                # the x locations for the groups\n",
    "width = 0.5                   # the width of the bars\n",
    "\n",
    "## the bars\n",
    "rects1 = ax.bar(ind, numpassenger, width,\n",
    "                color='blue',\n",
    "               )\n",
    "#the lables and tick marks\n",
    "ax.set_ylabel('number of survived passengers ')\n",
    "ax.set_title('Female were more likely to survived than male')\n",
    "xTickMarks = ['Female','Male']\n",
    "ax.set_xticks(ind)\n",
    "xtickNames = ax.set_xticklabels(xTickMarks)\n",
    "\n"
   ]
  },
  {
   "cell_type": "markdown",
   "metadata": {},
   "source": [
    "5.**'Embarked'**:I grouped by 'Survived'and 'Embarked', made a barplot and found: **Passengers embarked on Southampton were most likely to survived than other stations.**"
   ]
  },
  {
   "cell_type": "code",
   "execution_count": 20,
   "metadata": {
    "collapsed": false
   },
   "outputs": [
    {
     "data": {
      "image/png": "[encoded data removed]",
      "text/plain": [
       "<matplotlib.figure.Figure at 0xa4989b0>"
      ]
     },
     "metadata": {},
     "output_type": "display_data"
    }
   ],
   "source": [
    "Survived_group_embark=titanic_df.groupby(['Survived','Embarked'])\n",
    "#print Survived_group_embark.groups[1L, 'S']\n",
    "fig = plt.figure()\n",
    "ax = fig.add_subplot(111)\n",
    "\n",
    "## the data\n",
    "N = 3\n",
    "numpassenger = [len(Survived_group_embark.groups[1L, 'S']),len(Survived_group_embark.groups[1L, 'C']),len(Survived_group_embark.groups[1L, 'Q'])]\n",
    "\n",
    "\n",
    "## necessary variables\n",
    "ind = np.arange(0,N)                # the x locations for the groups\n",
    "width = 0.5                   # the width of the bars\n",
    "\n",
    "## the bars\n",
    "rects1 = ax.bar(ind, numpassenger, width,\n",
    "                color='blue',\n",
    "               )\n",
    "#the lables and tick marks\n",
    "ax.set_ylabel('number of survived passengers ')\n",
    "ax.set_title('Passengers embarked on Southampton are most likely to survived')\n",
    "xTickMarks = ['Southampton','Cherbourg','Queenstown']\n",
    "ax.set_xticks(ind)\n",
    "xtickNames = ax.set_xticklabels(xTickMarks)"
   ]
  },
  {
   "cell_type": "markdown",
   "metadata": {},
   "source": [
    "6.**'Pclass'**:I grouped by 'Survived'and 'Pclass', made a barplot and found:** Passengers of class 1 were most likely to survived than other class.**"
   ]
  },
  {
   "cell_type": "code",
   "execution_count": 21,
   "metadata": {
    "collapsed": false
   },
   "outputs": [
    {
     "data": {
      "text/plain": [
       "<matplotlib.legend.Legend at 0xa92d290>"
      ]
     },
     "execution_count": 21,
     "metadata": {},
     "output_type": "execute_result"
    },
    {
     "data": {
      "image/png": "[encoded data removed]",
      "text/plain": [
       "<matplotlib.figure.Figure at 0xa032bb0>"
      ]
     },
     "metadata": {},
     "output_type": "display_data"
    }
   ],
   "source": [
    "Survived_group_pclass=titanic_df.groupby(['Survived','Pclass'])\n",
    "#print Survived_group_pclass.groups\n",
    "fig = plt.figure()\n",
    "ax = fig.add_subplot(111)\n",
    "\n",
    "## the data\n",
    "N = 3\n",
    "numpassengersurvived = [len(Survived_group_pclass.groups[1L, 1L]),len(Survived_group_pclass.groups[1L,2L]),len(Survived_group_pclass.groups[1L,3L])]\n",
    "\n",
    "numpassengernotsurvived = [len(Survived_group_pclass.groups[0L, 1L]),len(Survived_group_pclass.groups[0L,2L]),len(Survived_group_pclass.groups[0L,3L])]\n",
    "\n",
    "## necessary variables\n",
    "ind = np.arange(0,N)                # the x locations for the groups\n",
    "width = 0.3                   # the width of the bars\n",
    "\n",
    "## the bars\n",
    "rects1 = ax.bar(ind, numpassenger, width,\n",
    "                color='blue',\n",
    "               )\n",
    "rects2 = ax.bar(ind+width, numpassengernotsurvived, width,\n",
    "                    color='red',\n",
    "                    )\n",
    "\n",
    "#the lables and tick marks\n",
    "ax.set_ylabel('number of survived passengers ')\n",
    "ax.set_title('Passengers of class 1 are most likely to survived')\n",
    "xTickMarks = ['class 1st','class 2nd','class 3rd']\n",
    "ax.set_xticks(ind)\n",
    "xtickNames = ax.set_xticklabels(xTickMarks)\n",
    "\n",
    "## add a legend\n",
    "ax.legend( (rects1[0], rects2[0]), ('Survived', 'NotSurvived') )\n"
   ]
  },
  {
   "cell_type": "markdown",
   "metadata": {},
   "source": [
    "We found that passengers who paid higher fares and passengers in higher classes both suggested higher likelihoods of survival. \n",
    "It seems like these features are inherently correlated.We drew a boxplot and ** found the relationship of Fare and Pclass are high correlated.**"
   ]
  },
  {
   "cell_type": "code",
   "execution_count": 24,
   "metadata": {
    "collapsed": false
   },
   "outputs": [
    {
     "data": {
      "text/plain": [
       "<matplotlib.axes._subplots.AxesSubplot at 0xa8e8350>"
      ]
     },
     "execution_count": 24,
     "metadata": {},
     "output_type": "execute_result"
    },
    {
     "data": {
      "image/png": "[encoded data removed]",
      "text/plain": [
       "<matplotlib.figure.Figure at 0xa312210>"
      ]
     },
     "metadata": {},
     "output_type": "display_data"
    }
   ],
   "source": [
    "sns.boxplot(x=\"Pclass\", y=\"Fare\", data=titanic_df)"
   ]
  },
  {
   "cell_type": "markdown",
   "metadata": {},
   "source": [
    "# Conclutions:\n",
    "From exploration above,we can draw some conclutions:\n",
    "\n",
    "1.We don't have sufficient evidence to say that the 'Age'average of survived passengers and unsurvived passengers are not the same.\n",
    "\n",
    "2.Passengers with higher fare were more likely to survived. \n",
    "\n",
    "3.Passengers had parents and children aboard were more likely to survived.However.When Siblings/Spouses=1 the passengers were very likely to survived. When Siblings/Spouses>=2 or =0, passengers have much lower opportunity to survive.\n",
    "\n",
    "4.Female were more likely to survived than male.\n",
    "\n",
    "5.Passengers embarked on Southampton were most likely to survived than other station.\n",
    "\n",
    "6.Passengers of class 1st were most likely to survived than other class.'Pclass' is high related with 'Fare'.\n",
    "\n",
    "Remind that about 20% 'Age'value are missing,we can't have supplementary on these values,they may have impact on the later statistic inference.\n"
   ]
  },
  {
   "cell_type": "code",
   "execution_count": null,
   "metadata": {
    "collapsed": true
   },
   "outputs": [],
   "source": []
  }
 ],
 "metadata": {
  "kernelspec": {
   "display_name": "Python 2",
   "language": "python",
   "name": "python2"
  },
  "language_info": {
   "codemirror_mode": {
    "name": "ipython",
    "version": 2
   },
   "file_extension": ".py",
   "mimetype": "text/x-python",
   "name": "python",
   "nbconvert_exporter": "python",
   "pygments_lexer": "ipython2",
   "version": "2.7.10"
  }
 },
 "nbformat": 4,
 "nbformat_minor": 0
}
